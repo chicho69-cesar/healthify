{
  "cells": [
    {
      "cell_type": "code",
      "execution_count": 19,
      "metadata": {
        "colab": {
          "base_uri": "https://localhost:8080/",
          "height": 35
        },
        "id": "b1EEO3f9J8d_",
        "outputId": "3fc5bc93-487b-40e5-c9b1-7f2984a255c1"
      },
      "outputs": [
        {
          "data": {
            "application/vnd.google.colaboratory.intrinsic+json": {
              "type": "string"
            },
            "text/plain": [
              "'1.2.2'"
            ]
          },
          "execution_count": 19,
          "metadata": {},
          "output_type": "execute_result"
        }
      ],
      "source": [
        "# Importar las bibliotecas necesarias\n",
        "\n",
        "import pandas as pd\n",
        "import numpy as np\n",
        "import pickle\n",
        "import sklearn\n",
        "from sklearn.neural_network import MLPClassifier\n",
        "from sklearn.model_selection import train_test_split\n",
        "from sklearn.preprocessing import StandardScaler\n",
        "from sklearn.metrics import accuracy_score\n",
        "\n",
        "sklearn.__version__"
      ]
    },
    {
      "cell_type": "code",
      "execution_count": 20,
      "metadata": {
        "id": "XnScbyHKKbyS"
      },
      "outputs": [],
      "source": [
        "# Cargar el conjunto de datos de cardiovasculares\n",
        "\n",
        "url = \"/content/cardiovascular.csv\"\n",
        "df = pd.read_csv(url)"
      ]
    },
    {
      "cell_type": "code",
      "execution_count": 21,
      "metadata": {
        "id": "PpJbf0bWK31N"
      },
      "outputs": [],
      "source": [
        "# Variables predictoras\n",
        "X = df[[\"weight\", \"ap_hi\", \"ap_lo\", \"cholesterol\", \"gluc\", \"smoke\", \"alco\", \"active\", \"age\", \"gender\", \"height\"]]\n",
        "\n",
        "# Variable objetivo\n",
        "Y = df['cardio']\n",
        "\n",
        "# Agrupación de datos\n",
        "X = X.values\n",
        "Y = Y.values"
      ]
    },
    {
      "cell_type": "code",
      "execution_count": 22,
      "metadata": {
        "id": "JEAimhTILMwg"
      },
      "outputs": [],
      "source": [
        "# Normalización de los datos\n",
        "\n",
        "std = StandardScaler()\n",
        "X_train, x_test, Y_train, y_test = train_test_split(X, Y, test_size=0.4, random_state=0)\n",
        "X_train = std.fit_transform(X_train)\n",
        "x_test = std.fit_transform(x_test)\n",
        "xu = std.fit_transform(X)"
      ]
    },
    {
      "cell_type": "code",
      "execution_count": 23,
      "metadata": {
        "id": "rNolDBKWLcJH"
      },
      "outputs": [],
      "source": [
        "# Entrenamiento del modelo de red neuronal\n",
        "\n",
        "NNA = MLPClassifier(random_state=1, max_iter=500).fit(X_train, Y_train)\n",
        "predicted = NNA.predict(xu)"
      ]
    },
    {
      "cell_type": "code",
      "execution_count": 24,
      "metadata": {
        "colab": {
          "base_uri": "https://localhost:8080/"
        },
        "id": "ysJk4QWSLpgQ",
        "outputId": "b7055139-750b-452f-98e4-861831e8deb8"
      },
      "outputs": [
        {
          "name": "stdout",
          "output_type": "stream",
          "text": [
            "Precisión de la Red Neuronal: 0.7373714285714286\n"
          ]
        }
      ],
      "source": [
        "# Calcular precisión de la Red Neuronal\n",
        "\n",
        "accuracy = accuracy_score(Y, predicted)\n",
        "print(\"Precisión de la Red Neuronal:\", accuracy)"
      ]
    },
    {
      "cell_type": "code",
      "execution_count": 25,
      "metadata": {
        "id": "Qx1xkK7cMDIm"
      },
      "outputs": [],
      "source": [
        "# Grabamos el modelo en el directorio\n",
        "\n",
        "pkl_filename = \"cardiovascular_model.pkl\"\n",
        "with open(pkl_filename, 'wb') as file:\n",
        "  pickle.dump(NNA, file)"
      ]
    },
    {
      "cell_type": "code",
      "execution_count": null,
      "metadata": {
        "id": "Po7wdXRTMJ-N"
      },
      "outputs": [],
      "source": [
        "# Cargamos el modelo\n",
        "\n",
        "pkl_filename = \"cardiovascular_model.pkl\"\n",
        "with open(pkl_filename, 'rb') as file:\n",
        "  NNA = pickle.load(file)"
      ]
    },
    {
      "cell_type": "code",
      "execution_count": 26,
      "metadata": {
        "colab": {
          "base_uri": "https://localhost:8080/"
        },
        "id": "lnCqkjXCMPDV",
        "outputId": "a0211e2c-1eac-429f-b19d-b3e2639b965d"
      },
      "outputs": [
        {
          "data": {
            "text/plain": [
              "1"
            ]
          },
          "execution_count": 26,
          "metadata": {},
          "output_type": "execute_result"
        }
      ],
      "source": [
        "# Predicción del modelo\n",
        "\n",
        "x_in = np.asarray([62.0, 110, 80, 1, 1, 0, 0, 1, 18393, 2, 168]).reshape(1, -1)\n",
        "predicts = NNA.predict(x_in)\n",
        "predicts[0]"
      ]
    }
  ],
  "metadata": {
    "colab": {
      "provenance": []
    },
    "kernelspec": {
      "display_name": "Python 3",
      "name": "python3"
    },
    "language_info": {
      "name": "python"
    }
  },
  "nbformat": 4,
  "nbformat_minor": 0
}
