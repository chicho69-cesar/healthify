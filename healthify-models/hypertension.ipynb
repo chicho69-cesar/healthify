{
  "cells": [
    {
      "cell_type": "code",
      "execution_count": 12,
      "metadata": {
        "colab": {
          "base_uri": "https://localhost:8080/",
          "height": 35
        },
        "id": "RSM0RwM9Hzbo",
        "outputId": "0f689316-c030-42f9-cb7d-e7426e4d69e2"
      },
      "outputs": [
        {
          "data": {
            "application/vnd.google.colaboratory.intrinsic+json": {
              "type": "string"
            },
            "text/plain": [
              "'1.2.2'"
            ]
          },
          "execution_count": 12,
          "metadata": {},
          "output_type": "execute_result"
        }
      ],
      "source": [
        "# Importar las bibliotecas necesarias\n",
        "\n",
        "import pandas as pd\n",
        "import numpy as np\n",
        "import pickle\n",
        "import sklearn\n",
        "from sklearn.model_selection import train_test_split\n",
        "from sklearn.tree import DecisionTreeClassifier\n",
        "\n",
        "sklearn.__version__"
      ]
    },
    {
      "cell_type": "code",
      "execution_count": 13,
      "metadata": {
        "id": "DGQwKHUpIKL0"
      },
      "outputs": [],
      "source": [
        "# Cargar el conjunto de datos de hypertension\n",
        "\n",
        "path_to_file = \"/content/hypertension.csv\"\n",
        "hypertension_data = pd.read_csv(path_to_file)"
      ]
    },
    {
      "cell_type": "code",
      "execution_count": 14,
      "metadata": {
        "id": "mBznnyQ6IWwi"
      },
      "outputs": [],
      "source": [
        "# Dividir el conjunto de datos en conjuntos de entrenamiento y prueba\n",
        "\n",
        "X = hypertension_data.drop(\"riesgo_hipertension\", axis=1)\n",
        "Y = hypertension_data.pop(\"riesgo_hipertension\")\n",
        "\n",
        "X_train, X_test, y_train, y_test = train_test_split(X, Y, test_size=0.2, random_state=42)"
      ]
    },
    {
      "cell_type": "code",
      "execution_count": 15,
      "metadata": {
        "id": "69TRR02MIkOp"
      },
      "outputs": [],
      "source": [
        "# Crear el árbol de decisión\n",
        "\n",
        "tree_classifier = DecisionTreeClassifier(criterion=\"entropy\", max_depth=3)\n",
        "tree_model = tree_classifier.fit(X_train, y_train)"
      ]
    },
    {
      "cell_type": "code",
      "execution_count": 16,
      "metadata": {
        "colab": {
          "base_uri": "https://localhost:8080/"
        },
        "id": "As99BC3OIseJ",
        "outputId": "a58ee1be-4822-40a9-edeb-40628d387080"
      },
      "outputs": [
        {
          "name": "stdout",
          "output_type": "stream",
          "text": [
            "Precisión del modelo: 0.981672394043528\n"
          ]
        }
      ],
      "source": [
        "# Evaluar el modelo\n",
        "\n",
        "accuracy = tree_model.score(X_test, y_test)\n",
        "print(\"Precisión del modelo:\", accuracy)"
      ]
    },
    {
      "cell_type": "code",
      "execution_count": 18,
      "metadata": {
        "id": "1_2lt_QBI1tQ"
      },
      "outputs": [],
      "source": [
        "# Grabamos el modelo en el directorio\n",
        "\n",
        "pkl_filename = \"hypertension_model.pkl\"\n",
        "with open(pkl_filename, 'wb') as file:\n",
        "  pickle.dump(tree_model, file)"
      ]
    },
    {
      "cell_type": "code",
      "execution_count": null,
      "metadata": {
        "id": "ljuVqb8aI9eg"
      },
      "outputs": [],
      "source": [
        "# Cargamos el modelo\n",
        "\n",
        "pkl_filename = \"hypertension_model.pkl\"\n",
        "with open(pkl_filename, 'rb') as file:\n",
        "  tree_model = pickle.load(file)"
      ]
    },
    {
      "cell_type": "code",
      "execution_count": 19,
      "metadata": {
        "colab": {
          "base_uri": "https://localhost:8080/"
        },
        "id": "O7SvHyoHJGdU",
        "outputId": "a01ab827-d10e-4e86-8efa-f6c5cb3f92b0"
      },
      "outputs": [
        {
          "name": "stderr",
          "output_type": "stream",
          "text": [
            "/usr/local/lib/python3.10/dist-packages/sklearn/base.py:439: UserWarning: X does not have valid feature names, but DecisionTreeClassifier was fitted with feature names\n",
            "  warnings.warn(\n"
          ]
        },
        {
          "data": {
            "text/plain": [
              "1"
            ]
          },
          "execution_count": 19,
          "metadata": {},
          "output_type": "execute_result"
        }
      ],
      "source": [
        "# Predicción del modelo\n",
        "\n",
        "x_in = np.asarray([2022_01001004, 2, 41, 14.2, 4.8, 139, 92.0, 4.0, 123, 74.55, 147.3, 0.0, 107, 4, 32.889389, 120]).reshape(1, -1)\n",
        "predicts = tree_model.predict(x_in)\n",
        "predicts[0]"
      ]
    }
  ],
  "metadata": {
    "colab": {
      "provenance": []
    },
    "kernelspec": {
      "display_name": "Python 3",
      "name": "python3"
    },
    "language_info": {
      "name": "python"
    }
  },
  "nbformat": 4,
  "nbformat_minor": 0
}
